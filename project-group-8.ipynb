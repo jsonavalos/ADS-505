{
 "cells": [
  {
   "cell_type": "markdown",
   "id": "3ed0815c-e669-4ddb-9938-c942040469fe",
   "metadata": {},
   "source": [
    "# Group 8 Project"
   ]
  },
  {
   "cell_type": "code",
   "execution_count": 2,
   "id": "dc9d7389-4d4a-45a7-834a-44f4f13368b9",
   "metadata": {},
   "outputs": [],
   "source": [
    "# imports\n",
    "import pandas as pd\n",
    "import numpy as np"
   ]
  },
  {
   "cell_type": "code",
   "execution_count": null,
   "id": "9016af0f-5e51-4638-8bde-61cb0247dfc4",
   "metadata": {},
   "outputs": [],
   "source": []
  }
 ],
 "metadata": {
  "kernelspec": {
   "display_name": "Python 3 (ipykernel)",
   "language": "python",
   "name": "python3"
  },
  "language_info": {
   "codemirror_mode": {
    "name": "ipython",
    "version": 3
   },
   "file_extension": ".py",
   "mimetype": "text/x-python",
   "name": "python",
   "nbconvert_exporter": "python",
   "pygments_lexer": "ipython3",
   "version": "3.13.0"
  }
 },
 "nbformat": 4,
 "nbformat_minor": 5
}
